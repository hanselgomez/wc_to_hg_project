{
 "cells": [
  {
   "cell_type": "code",
   "execution_count": 1,
   "metadata": {
    "collapsed": true
   },
   "outputs": [],
   "source": [
    "import pandas as pd\n",
    "import numpy as np\n",
    "import matplotlib.pyplot as plt\n",
    "import matplotlib as mpl\n",
    "import seaborn as sns"
   ]
  },
  {
   "cell_type": "code",
   "execution_count": 2,
   "metadata": {},
   "outputs": [
    {
     "data": {
      "text/html": [
       "<style>div.warn { background-color: #fcf2f2;border-color: #dFb5b4; border-left: 5px solid #dfb5b4; padding: 0.5em;}</style>"
      ],
      "text/plain": [
       "<IPython.core.display.HTML object>"
      ]
     },
     "execution_count": 2,
     "metadata": {},
     "output_type": "execute_result"
    }
   ],
   "source": [
    "from IPython.display import HTML\n",
    "style = \"<style>div.warn { background-color: #fcf2f2;border-color: #dFb5b4; border-left: 5px solid #dfb5b4; padding: 0.5em;}</style>\"\n",
    "HTML(style)"
   ]
  },
  {
   "cell_type": "markdown",
   "metadata": {},
   "source": [
    "Infering missing values (crashed calculations) ... !!!"
   ]
  },
  {
   "cell_type": "code",
   "execution_count": 6,
   "metadata": {},
   "outputs": [
    {
     "name": "stdout",
     "output_type": "stream",
     "text": [
      "Frame    0\n",
      "Ener     1\n",
      "dtype: int64\n"
     ]
    }
   ],
   "source": [
    "wc_mm = pd.read_csv(\"GAS_PHASE/WC/ENERGY_mm.csv\", names=['Frame', 'Ener'])\n",
    "wc_qm = pd.read_csv(\"GAS_PHASE/WC/ENERGY_qmmm.csv\", names=['Frame', 'Ener'])\n",
    "print(np.sum(wc_qm.isnull()))"
   ]
  },
  {
   "cell_type": "code",
   "execution_count": 7,
   "metadata": {},
   "outputs": [
    {
     "name": "stdout",
     "output_type": "stream",
     "text": [
      "Frame    0\n",
      "Ener     0\n",
      "dtype: int64\n"
     ]
    }
   ],
   "source": [
    "# filling NaNs with means since there are just \n",
    "wc_qm = wc_qm.apply(lambda x: x.fillna(x.mean()),axis=0)\n",
    "print(np.sum(wc_qm.isnull()))"
   ]
  },
  {
   "cell_type": "code",
   "execution_count": 14,
   "metadata": {},
   "outputs": [
    {
     "name": "stdout",
     "output_type": "stream",
     "text": [
      "Frame    0\n",
      "Ener     0\n",
      "dtype: int64\n"
     ]
    }
   ],
   "source": [
    "ts_mm = pd.read_csv(\"GAS_PHASE/TS_RH/ENERGY_mm.csv\", names=['Frame', 'Ener'])\n",
    "ts_qm = pd.read_csv(\"GAS_PHASE/TS_RH/ENERGY_qmmm.csv\", names=['Frame', 'Ener'])\n",
    "print(np.sum(ts_qm.isnull()))"
   ]
  },
  {
   "cell_type": "code",
   "execution_count": 98,
   "metadata": {},
   "outputs": [
    {
     "name": "stdout",
     "output_type": "stream",
     "text": [
      "Frame    0\n",
      "Ener     2\n",
      "dtype: int64\n"
     ]
    }
   ],
   "source": [
    "hg_mm = pd.read_csv(\"GAS_PHASE/HG/ENERGY_mm.csv\", names=['Frame', 'Ener'])\n",
    "hg_qm = pd.read_csv(\"GAS_PHASE/HG/ENERGY_qmmm.csv\", names=['Frame', 'Ener'])\n",
    "print(np.sum(hg_qm.isnull()))"
   ]
  },
  {
   "cell_type": "code",
   "execution_count": 99,
   "metadata": {},
   "outputs": [
    {
     "name": "stdout",
     "output_type": "stream",
     "text": [
      "Frame    0\n",
      "Ener     0\n",
      "dtype: int64\n"
     ]
    }
   ],
   "source": [
    "hg_qm = hg_qm.apply(lambda x: x.fillna(x.mean()),axis=0)\n",
    "print(np.sum(hg_qm.isnull()))"
   ]
  },
  {
   "cell_type": "markdown",
   "metadata": {},
   "source": [
    "<div class=\"warn\"><font size=\"4\"><h3 align=\"center\">GAS PHASE SINGLE POINTS</h3> </div>\n",
    "\n",
    "   + no waters or ions here. Central trimer in the double standed DNA is considered as QM (218 atoms). \n",
    "   + Level of theory: blyp/6-31g*"
   ]
  },
  {
   "cell_type": "markdown",
   "metadata": {},
   "source": [
    "<div class=\"warn\"><font size=\"4\"><h3 align=\"center\">GAS PHASE SINGLE POINTS</h3> </div>"
   ]
  },
  {
   "cell_type": "markdown",
   "metadata": {},
   "source": [
    "<font size=\"6\", color='red'><h3 align=\"center\">ENERGY BARRIERS</h3>"
   ]
  },
  {
   "cell_type": "markdown",
   "metadata": {},
   "source": [
    "# some bootstrapping here\n",
    "   + We have 500 single points of wc, ts and hg structures (selected according to our Umbrella 2D Free Energy calculations. Structures were selected so that the variables Xi and CPDDb as are as much as 5 degrees apart of their theoretical values.\n",
    "   + For bootstrapping we basically take i random pairs of wc and ts and compute energy barriers as E(wc) - E(ts). (I took 300 pairs below). This is repeated J times so that you have j (I did 1k times) number of data populations. "
   ]
  },
  {
   "cell_type": "code",
   "execution_count": 74,
   "metadata": {},
   "outputs": [],
   "source": [
    "def boostraping_pairs(minima_array_qm, maximun_array_qm, minima_array_mm, maximun_array_mm, n=1000, pairs=300):\n",
    "    ### giving two arrays of energies (minima assumed is from WC structures\n",
    "    # and maxima from TS or HG) defines random 'pairs' between these sets and computes energy differences\n",
    "    # This is done for mm and qmmmm energies\n",
    "    # It finally returns the arrays of means of such energy differences from 'n' experiments at the mm and qmmmm level\n",
    "    \n",
    "    barriers_qm_mean = []\n",
    "    barriers_mm_mean = []\n",
    "    \n",
    "    for n in range(1,n+1):\n",
    "        i, j = np.random.randint(1, 500, pairs), np.random.randint(1, 500, pairs)\n",
    "        barriers_qm_mean.append(np.mean(maximun_array_qm.loc[i]['Ener'].values - minima_array_qm.loc[j]['Ener'].values))\n",
    "        barriers_mm_mean.append(np.mean(maximun_array_mm.loc[i]['Ener'].values - minima_array_mm.loc[j]['Ener'].values))\n",
    "            \n",
    "    return (barriers_qm_mean, barriers_mm_mean)"
   ]
  },
  {
   "cell_type": "code",
   "execution_count": 75,
   "metadata": {
    "collapsed": true
   },
   "outputs": [],
   "source": [
    "avg_barriers_qm, avg_barriers_mm = boostraping_pairs(wc_qm, ts_qm, wc_mm, ts_mm, n=10000)"
   ]
  },
  {
   "cell_type": "code",
   "execution_count": 104,
   "metadata": {
    "collapsed": true
   },
   "outputs": [],
   "source": [
    "dic_mm = {'Ebarrier': avg_barriers_mm,\n",
    "      'type':'MM',\n",
    "      'phase':'Gas_Phase'}\n",
    "\n",
    "dic_qm = {'Ebarrier': avg_barriers_qm,\n",
    "      'type':'QM',\n",
    "      'phase':'Gas_Phase'}\n",
    "\n",
    "df_mm, df_qm = pd.DataFrame(dic_mm), pd.DataFrame(dic_qm)\n",
    "df = df_mm.append(df_qm)"
   ]
  },
  {
   "cell_type": "code",
   "execution_count": 105,
   "metadata": {},
   "outputs": [
    {
     "data": {
      "text/html": [
       "<div>\n",
       "<style>\n",
       "    .dataframe thead tr:only-child th {\n",
       "        text-align: right;\n",
       "    }\n",
       "\n",
       "    .dataframe thead th {\n",
       "        text-align: left;\n",
       "    }\n",
       "\n",
       "    .dataframe tbody tr th {\n",
       "        vertical-align: top;\n",
       "    }\n",
       "</style>\n",
       "<table border=\"1\" class=\"dataframe\">\n",
       "  <thead>\n",
       "    <tr style=\"text-align: right;\">\n",
       "      <th></th>\n",
       "      <th>Ebarrier</th>\n",
       "    </tr>\n",
       "    <tr>\n",
       "      <th>type</th>\n",
       "      <th></th>\n",
       "    </tr>\n",
       "  </thead>\n",
       "  <tbody>\n",
       "    <tr>\n",
       "      <th>MM</th>\n",
       "      <td>16.538934</td>\n",
       "    </tr>\n",
       "    <tr>\n",
       "      <th>QM</th>\n",
       "      <td>13.065231</td>\n",
       "    </tr>\n",
       "  </tbody>\n",
       "</table>\n",
       "</div>"
      ],
      "text/plain": [
       "       Ebarrier\n",
       "type           \n",
       "MM    16.538934\n",
       "QM    13.065231"
      ]
     },
     "execution_count": 105,
     "metadata": {},
     "output_type": "execute_result"
    }
   ],
   "source": [
    "df.groupby('type').mean()"
   ]
  },
  {
   "cell_type": "markdown",
   "metadata": {},
   "source": [
    "**Notice here how close are these means to the experimental + 16 kcal/mol value**.\n",
    "\n",
    "** According to the US-2D calculations this energy was + 10.25 kcal/mol **\n",
    "\n",
    "However we probably should not be comparing our results here to free energies (experimental = 16 kcal/mol) but with with experimental entalpies (12 to 26 kcal/mol). All these values are in [Original Al-hashimi paper Nature2011](https://www.ncbi.nlm.nih.gov/pmc/articles/PMC3074620/).\n",
    "\n",
    "In the second paper of Al-Hashimi on this they are not reporting enthalpies at all but just free energies (again about 16 kcal/mol) in all the sequences they considered [Paper with different sequences](https://www.nature.com/articles/ncomms5786#supplementary-information)"
   ]
  },
  {
   "cell_type": "code",
   "execution_count": 41,
   "metadata": {},
   "outputs": [
    {
     "data": {
      "text/html": [
       "<div>\n",
       "<style>\n",
       "    .dataframe thead tr:only-child th {\n",
       "        text-align: right;\n",
       "    }\n",
       "\n",
       "    .dataframe thead th {\n",
       "        text-align: left;\n",
       "    }\n",
       "\n",
       "    .dataframe tbody tr th {\n",
       "        vertical-align: top;\n",
       "    }\n",
       "</style>\n",
       "<table border=\"1\" class=\"dataframe\">\n",
       "  <thead>\n",
       "    <tr style=\"text-align: right;\">\n",
       "      <th></th>\n",
       "      <th>Ebarrier</th>\n",
       "    </tr>\n",
       "    <tr>\n",
       "      <th>type</th>\n",
       "      <th></th>\n",
       "    </tr>\n",
       "  </thead>\n",
       "  <tbody>\n",
       "    <tr>\n",
       "      <th>MM</th>\n",
       "      <td>4.941406</td>\n",
       "    </tr>\n",
       "    <tr>\n",
       "      <th>QM</th>\n",
       "      <td>4.979422</td>\n",
       "    </tr>\n",
       "  </tbody>\n",
       "</table>\n",
       "</div>"
      ],
      "text/plain": [
       "      Ebarrier\n",
       "type          \n",
       "MM    4.941406\n",
       "QM    4.979422"
      ]
     },
     "execution_count": 41,
     "metadata": {},
     "output_type": "execute_result"
    }
   ],
   "source": [
    "df.groupby('type').std()"
   ]
  },
  {
   "cell_type": "code",
   "execution_count": 78,
   "metadata": {},
   "outputs": [
    {
     "data": {
      "image/png": "[encoded data removed]",
      "text/plain": [
       "<matplotlib.figure.Figure at 0x110f2fdd0>"
      ]
     },
     "metadata": {},
     "output_type": "display_data"
    }
   ],
   "source": [
    "sns.distplot(df.loc[df.type == 'MM']['Ebarrier'], color='b', label='MM', hist_kws={\"alpha\": 0.3})\n",
    "sns.distplot(df.loc[df.type == 'QM']['Ebarrier'], color='r', label='QM', hist_kws={\"alpha\": 0.3})\n",
    "plt.axvline(np.mean(df.loc[df.type == 'MM']['Ebarrier']), color='b', linestyle='--')\n",
    "plt.axvline(np.mean(df.loc[df.type == 'QM']['Ebarrier']), color='r', linestyle='--')\n",
    "plt.legend()\n",
    "plt.show()"
   ]
  },
  {
   "cell_type": "markdown",
   "metadata": {},
   "source": [
    "**Note that the distribution is quite broad so that there are good chances of having means in a broad range also:**"
   ]
  },
  {
   "cell_type": "code",
   "execution_count": 79,
   "metadata": {},
   "outputs": [
    {
     "data": {
      "text/plain": [
       "array([ 10.19126413,  22.71809853])"
      ]
     },
     "execution_count": 79,
     "metadata": {},
     "output_type": "execute_result"
    }
   ],
   "source": [
    "# let's see the 10th and 90th percentiles \n",
    "np.percentile(df.loc[df.type == 'MM']['Ebarrier'], [10, 90])"
   ]
  },
  {
   "cell_type": "markdown",
   "metadata": {},
   "source": [
    "<font color='red'>10th and 90th Percentiles indicates range of values of 10-22 kcal/mol, **where the esperimental value (i.e 16 kcal/mol) is included** .</font>"
   ]
  },
  {
   "cell_type": "code",
   "execution_count": 80,
   "metadata": {},
   "outputs": [
    {
     "data": {
      "image/png": "[encoded data removed]",
      "text/plain": [
       "<matplotlib.figure.Figure at 0x110f8eb50>"
      ]
     },
     "metadata": {},
     "output_type": "display_data"
    }
   ],
   "source": [
    "sns.distplot(df.loc[df.type == 'MM']['Ebarrier'], color='b', bins=10, \n",
    "             hist_kws=dict(cumulative=True, alpha=0.3), kde_kws=dict(cumulative=True), label='MM')\n",
    "sns.distplot(df.loc[df.type == 'QM']['Ebarrier'], color='r', bins=10,\n",
    "            hist_kws=dict(cumulative=True, alpha=0.3), kde_kws=dict(cumulative=True), label='QM', )\n",
    "\n",
    "\n",
    "mean=np.mean(df.loc[df.type == 'QM']['Ebarrier'])\n",
    "std=np.std(df.loc[df.type == 'QM']['Ebarrier'])\n",
    "size=len(df.loc[df.type == 'QM'])\n",
    "#print(mean, std, size)\n",
    "t_qm = np.random.normal(mean, std, size)\n",
    "\n",
    "sns.kdeplot(t_qm, color='black', cumulative=True, label='Theoretical ND QM data', linestyle='--')\n",
    "\n",
    "plt.axvline(np.mean(df.loc[df.type == 'MM']['Ebarrier']), color='b', linestyle='--')\n",
    "plt.axvline(np.mean(df.loc[df.type == 'QM']['Ebarrier']), color='r', linestyle='--')\n",
    "plt.ylabel('CDF')\n",
    "plt.legend()\n",
    "plt.show()"
   ]
  },
  {
   "cell_type": "markdown",
   "metadata": {},
   "source": [
    "Theoretical ND (Normal Distribution) QM Data is just the theoretical ND with same mean and std as observered in population of QM sp calculations. The similarity with the actual QM distribution just confirm that means of energy barriers follow a ND (as expected)"
   ]
  },
  {
   "cell_type": "markdown",
   "metadata": {},
   "source": [
    "<font color='red'>At first sight MM and QM/MM distributions of energy barriers look quite similar but MM energy barriers appear to be about 3 kcal/mol higher than QMMMM energies. Let's run some statistics to see if it is statistically significant. </font>\n",
    "\n",
    "# Null Hypothesis Significance Testing (NHST) MM vs QM\n",
    "   + null hypothesis: means of QMMM and MM energy barriers follow the same normal distribution"
   ]
  },
  {
   "cell_type": "code",
   "execution_count": 81,
   "metadata": {
    "collapsed": true
   },
   "outputs": [],
   "source": [
    "def p_value_mm_vs_qm(df, n=10000, diff=5.0):\n",
    "    \n",
    "    # generates a permutation sample giving the hypothesis that mm and qmmmm distributions are identical\n",
    "    # then splits data and computes means of new distributions of mm and qmmmm\n",
    "    # returns the p-value\n",
    "    \n",
    "    full_Ebarriers = np.array(df.Ebarrier)\n",
    "    \n",
    "    count=np.zeros(n)\n",
    "\n",
    "    for i in range(n):\n",
    "        \n",
    "        perm_Ebarriers = np.random.permutation(full_Ebarriers)\n",
    "        perm_Ebarriers_MM = perm_Ebarriers[:len(df.loc[df.type == 'MM'])]\n",
    "        perm_Ebarriers_QM = perm_Ebarriers[len(df.loc[df.type == 'MM']):]\n",
    "\n",
    "        count[i]= (np.mean(perm_Ebarriers_MM) - np.mean(perm_Ebarriers_QM)) >= diff\n",
    "    \n",
    "    return format(np.sum(count)/n, '.4f')"
   ]
  },
  {
   "cell_type": "code",
   "execution_count": 82,
   "metadata": {},
   "outputs": [
    {
     "data": {
      "text/plain": [
       "'0.0000'"
      ]
     },
     "execution_count": 82,
     "metadata": {},
     "output_type": "execute_result"
    }
   ],
   "source": [
    "# So what's the chance that MM barriers are actually higher than QMMMM barriers by at least 3 kcal/mol as observed?\n",
    "p_value_mm_vs_qm(df, n=10000, diff=3.0)"
   ]
  },
  {
   "cell_type": "markdown",
   "metadata": {},
   "source": [
    "**With a p-value of 0.0 seems that distributions of means of MM barries are actually higher by at least 3 kcal/mol**."
   ]
  },
  {
   "cell_type": "markdown",
   "metadata": {},
   "source": [
    "And what's the chance of having a mean value of at least let's say 14 kcal/mol for the mm calculations ?"
   ]
  },
  {
   "cell_type": "code",
   "execution_count": 126,
   "metadata": {},
   "outputs": [
    {
     "data": {
      "text/plain": [
       "0.7062"
      ]
     },
     "execution_count": 126,
     "metadata": {},
     "output_type": "execute_result"
    }
   ],
   "source": [
    "float(sum(df.loc[df.type == 'MM']['Ebarrier'] >= 14.0)) / len(df.loc[df.type == 'MM'])"
   ]
  },
  {
   "cell_type": "markdown",
   "metadata": {},
   "source": [
    "<font size=\"6\", color='red'><h3 align=\"center\">MORAL</h3>"
   ]
  },
  {
   "cell_type": "markdown",
   "metadata": {},
   "source": [
    "   + according to this analysis there is a 70 % of chance that giving a population of energy barriers at the MM level their mean is at least of 14 kcal/mol (remember the experimental value is of 16 kcal/mol)"
   ]
  },
  {
   "cell_type": "markdown",
   "metadata": {},
   "source": [
    "<font size=\"4\", color='red'>Could we just it this analysis and forget about our deviation in the umbrella runs with respect to the experimental value? ... Even if we have been computing gas phase enthalpies ? Maybe :)</h3>"
   ]
  },
  {
   "cell_type": "markdown",
   "metadata": {},
   "source": [
    "<font size=\"6\", color='red'><h3 align=\"center\">REACTION ENERGIES</h3>"
   ]
  },
  {
   "cell_type": "markdown",
   "metadata": {},
   "source": [
    "# some bootstrapping here\n",
    "   + We have 500 single points of wc, ts and hg structures (selected according to our Umbrella 2D Free Energy calculations. Structures were selected so that the variables Xi and CPDDb as are as much as 5 degrees apart of their theoretical values.\n",
    "   + For bootstrapping we basically take 'pairs' random pairs of wc and ts and compute energy barriers as E(wc) - E(ts).This is repeated n times. "
   ]
  },
  {
   "cell_type": "code",
   "execution_count": 100,
   "metadata": {
    "collapsed": true
   },
   "outputs": [],
   "source": [
    "avg_reaction_qm, avg_reaction_mm = boostraping_pairs(wc_qm, hg_qm, wc_mm, hg_mm, n=100000, pairs=200)"
   ]
  },
  {
   "cell_type": "code",
   "execution_count": 106,
   "metadata": {
    "collapsed": true
   },
   "outputs": [],
   "source": [
    "dic_mm = {'Ebarrier': avg_reaction_mm,\n",
    "      'type':'MM',\n",
    "      'phase':'Gas_Phase'}\n",
    "\n",
    "dic_qm = {'Ebarrier': avg_reaction_qm,\n",
    "      'type':'QM',\n",
    "      'phase':'Gas_Phase'}\n",
    "\n",
    "df_mm_reaction, df_qm_reaction = pd.DataFrame(dic_mm), pd.DataFrame(dic_qm)\n",
    "df_reaction = df_mm_reaction.append(df_qm)"
   ]
  },
  {
   "cell_type": "code",
   "execution_count": 107,
   "metadata": {},
   "outputs": [
    {
     "data": {
      "text/html": [
       "<div>\n",
       "<style>\n",
       "    .dataframe thead tr:only-child th {\n",
       "        text-align: right;\n",
       "    }\n",
       "\n",
       "    .dataframe thead th {\n",
       "        text-align: left;\n",
       "    }\n",
       "\n",
       "    .dataframe tbody tr th {\n",
       "        vertical-align: top;\n",
       "    }\n",
       "</style>\n",
       "<table border=\"1\" class=\"dataframe\">\n",
       "  <thead>\n",
       "    <tr style=\"text-align: right;\">\n",
       "      <th></th>\n",
       "      <th>Ebarrier</th>\n",
       "    </tr>\n",
       "    <tr>\n",
       "      <th>type</th>\n",
       "      <th></th>\n",
       "    </tr>\n",
       "  </thead>\n",
       "  <tbody>\n",
       "    <tr>\n",
       "      <th>MM</th>\n",
       "      <td>15.554047</td>\n",
       "    </tr>\n",
       "    <tr>\n",
       "      <th>QM</th>\n",
       "      <td>13.065231</td>\n",
       "    </tr>\n",
       "  </tbody>\n",
       "</table>\n",
       "</div>"
      ],
      "text/plain": [
       "       Ebarrier\n",
       "type           \n",
       "MM    15.554047\n",
       "QM    13.065231"
      ]
     },
     "execution_count": 107,
     "metadata": {},
     "output_type": "execute_result"
    }
   ],
   "source": [
    "df_reaction.groupby('type').mean()"
   ]
  },
  {
   "cell_type": "code",
   "execution_count": 108,
   "metadata": {},
   "outputs": [
    {
     "data": {
      "image/png": "[encoded data removed]",
      "text/plain": [
       "<matplotlib.figure.Figure at 0x113df0e90>"
      ]
     },
     "metadata": {},
     "output_type": "display_data"
    }
   ],
   "source": [
    "sns.distplot(df_reaction.loc[df_reaction.type == 'MM']['Ebarrier'], color='b', label='MM', hist_kws={\"alpha\": 0.3})\n",
    "sns.distplot(df_reaction.loc[df_reaction.type == 'QM']['Ebarrier'], color='r', label='QM', hist_kws={\"alpha\": 0.3})\n",
    "plt.axvline(np.mean(df_reaction.loc[df_reaction.type == 'MM']['Ebarrier']), color='b', linestyle='--')\n",
    "plt.axvline(np.mean(df_reaction.loc[df_reaction.type == 'QM']['Ebarrier']), color='r', linestyle='--')\n",
    "plt.legend()\n",
    "plt.show()"
   ]
  },
  {
   "cell_type": "markdown",
   "metadata": {},
   "source": [
    "**Values are to high here, according to US-2D was 2.5 kcal/mol and Al-Hashimi report values of 3 +- 0.5 kcal/mol. so in this case we were already in good agreement**"
   ]
  },
  {
   "cell_type": "code",
   "execution_count": 109,
   "metadata": {},
   "outputs": [
    {
     "data": {
      "text/html": [
       "<div>\n",
       "<style>\n",
       "    .dataframe thead tr:only-child th {\n",
       "        text-align: right;\n",
       "    }\n",
       "\n",
       "    .dataframe thead th {\n",
       "        text-align: left;\n",
       "    }\n",
       "\n",
       "    .dataframe tbody tr th {\n",
       "        vertical-align: top;\n",
       "    }\n",
       "</style>\n",
       "<table border=\"1\" class=\"dataframe\">\n",
       "  <thead>\n",
       "    <tr style=\"text-align: right;\">\n",
       "      <th></th>\n",
       "      <th>Ebarrier</th>\n",
       "    </tr>\n",
       "    <tr>\n",
       "      <th>type</th>\n",
       "      <th></th>\n",
       "    </tr>\n",
       "  </thead>\n",
       "  <tbody>\n",
       "    <tr>\n",
       "      <th>MM</th>\n",
       "      <td>8.189491</td>\n",
       "    </tr>\n",
       "    <tr>\n",
       "      <th>QM</th>\n",
       "      <td>4.978060</td>\n",
       "    </tr>\n",
       "  </tbody>\n",
       "</table>\n",
       "</div>"
      ],
      "text/plain": [
       "      Ebarrier\n",
       "type          \n",
       "MM    8.189491\n",
       "QM    4.978060"
      ]
     },
     "execution_count": 109,
     "metadata": {},
     "output_type": "execute_result"
    }
   ],
   "source": [
    "df_reaction.groupby('type').std()"
   ]
  },
  {
   "cell_type": "code",
   "execution_count": 110,
   "metadata": {},
   "outputs": [
    {
     "data": {
      "image/png": "[encoded data removed]",
      "text/plain": [
       "<matplotlib.figure.Figure at 0x1143bb1d0>"
      ]
     },
     "metadata": {},
     "output_type": "display_data"
    }
   ],
   "source": [
    "sns.distplot(df_reaction.loc[df_reaction.type == 'MM']['Ebarrier'], color='b', bins=10, \n",
    "             hist_kws=dict(cumulative=True, alpha=0.3), kde_kws=dict(cumulative=True), label='MM')\n",
    "sns.distplot(df_reaction.loc[df_reaction.type == 'QM']['Ebarrier'], color='r', bins=10,\n",
    "            hist_kws=dict(cumulative=True, alpha=0.3), kde_kws=dict(cumulative=True), label='QM', )\n",
    "\n",
    "\n",
    "mean=np.mean(df_reaction.loc[df_reaction.type == 'QM']['Ebarrier'])\n",
    "std=np.std(df_reaction.loc[df_reaction.type == 'QM']['Ebarrier'])\n",
    "size=len(df_reaction.loc[df_reaction.type == 'QM'])\n",
    "#print(mean, std, size)\n",
    "t_qm = np.random.normal(mean, std, size)\n",
    "\n",
    "sns.kdeplot(t_qm, color='black', cumulative=True, label='Theoretical ND QM data', linestyle='--')\n",
    "\n",
    "plt.axvline(np.mean(df_reaction.loc[df_reaction.type == 'MM']['Ebarrier']), color='b', linestyle='--')\n",
    "plt.axvline(np.mean(df_reaction.loc[df_reaction.type == 'QM']['Ebarrier']), color='r', linestyle='--')\n",
    "plt.ylabel('Cdf_reaction')\n",
    "plt.legend()\n",
    "plt.show()"
   ]
  },
  {
   "cell_type": "code",
   "execution_count": 96,
   "metadata": {},
   "outputs": [
    {
     "data": {
      "text/plain": [
       "array([  7.27024233,  24.3083224 ])"
      ]
     },
     "execution_count": 96,
     "metadata": {},
     "output_type": "execute_result"
    }
   ],
   "source": [
    "# let's see the 10th and 90th percentiles \n",
    "np.percentile(df_reaction.loc[df.type == 'MM']['Ebarrier'], [10, 90])"
   ]
  },
  {
   "cell_type": "markdown",
   "metadata": {},
   "source": [
    "<font size=\"4\", color='red'>some how the same analysis is not working for reaction energies, trying to figure out why, or since our problem is just with the energy barriers and not reaction energies we could probably just refer to the first ? Look a little bit like cheating though. Double checked that energies actually came from HG structures etc</h3>"
   ]
  },
  {
   "cell_type": "markdown",
   "metadata": {},
   "source": [
    "<div class=\"warn\"><font size=\"4\"><h3 align=\"center\">FULL PHASE SINGLE POINTS</h3> </div>\n",
    "   + here the water molecules and ions within 10 A of the nucleic acids where preserved in QM/MM calculations. QM partition as well as level of theory was the same as in the Gas Phase calculations. "
   ]
  },
  {
   "cell_type": "code",
   "execution_count": 128,
   "metadata": {
    "collapsed": true
   },
   "outputs": [],
   "source": [
    "wc_mm_full = pd.read_csv(\"FULL_PHASE/WC/ENERGY_mm.csv\", names=['Frame', 'Ener'])\n",
    "wc_qm_full = pd.read_csv(\"FULL_PHASE/WC/ENERGY_qmmm.csv\", names=['Frame', 'Ener'])\n",
    "\n",
    "wc_qm_full = wc_qm_full.apply(lambda x: x.fillna(x.mean()),axis=0)"
   ]
  },
  {
   "cell_type": "code",
   "execution_count": 129,
   "metadata": {
    "collapsed": true
   },
   "outputs": [],
   "source": [
    "ts_mm_full = pd.read_csv(\"FULL_PHASE/TS_RH/ENERGY_mm.csv\", names=['Frame', 'Ener'])\n",
    "ts_qm_full = pd.read_csv(\"FULL_PHASE/TS_RH/ENERGY_qmmm.csv\", names=['Frame', 'Ener'])\n",
    "\n",
    "ts_qm_full = ts_qm_full.apply(lambda x: x.fillna(x.mean()),axis=0)"
   ]
  },
  {
   "cell_type": "code",
   "execution_count": 130,
   "metadata": {
    "collapsed": true
   },
   "outputs": [],
   "source": [
    "hg_mm_full = pd.read_csv(\"FULL_PHASE/HG/ENERGY_mm.csv\", names=['Frame', 'Ener'])\n",
    "hg_qm_full = pd.read_csv(\"FULL_PHASE/HG/ENERGY_qmmm.csv\", names=['Frame', 'Ener'])\n",
    "\n",
    "hg_qm_full = hg_qm_full.apply(lambda x: x.fillna(x.mean()),axis=0)"
   ]
  },
  {
   "cell_type": "code",
   "execution_count": 131,
   "metadata": {
    "collapsed": true
   },
   "outputs": [],
   "source": [
    "avg_barriers_qm, avg_barriers_mm = boostraping_pairs(wc_qm_full, ts_qm_full, wc_mm_full, ts_mm_full, n=10000)"
   ]
  },
  {
   "cell_type": "code",
   "execution_count": 132,
   "metadata": {
    "collapsed": true
   },
   "outputs": [],
   "source": [
    "dic_mm = {'Ebarrier': avg_barriers_mm,\n",
    "      'type':'MM',\n",
    "      'phase':'Full_Phase'}\n",
    "\n",
    "dic_qm = {'Ebarrier': avg_barriers_qm,\n",
    "      'type':'QM',\n",
    "      'phase':'Full_Phase'}\n",
    "\n",
    "df_mm_full, df_qm_full = pd.DataFrame(dic_mm), pd.DataFrame(dic_qm)\n",
    "df_full = df_mm_full.append(df_qm_full)"
   ]
  },
  {
   "cell_type": "code",
   "execution_count": 133,
   "metadata": {},
   "outputs": [
    {
     "data": {
      "text/html": [
       "<div>\n",
       "<style>\n",
       "    .dataframe thead tr:only-child th {\n",
       "        text-align: right;\n",
       "    }\n",
       "\n",
       "    .dataframe thead th {\n",
       "        text-align: left;\n",
       "    }\n",
       "\n",
       "    .dataframe tbody tr th {\n",
       "        vertical-align: top;\n",
       "    }\n",
       "</style>\n",
       "<table border=\"1\" class=\"dataframe\">\n",
       "  <thead>\n",
       "    <tr style=\"text-align: right;\">\n",
       "      <th></th>\n",
       "      <th>Ebarrier</th>\n",
       "    </tr>\n",
       "    <tr>\n",
       "      <th>type</th>\n",
       "      <th></th>\n",
       "    </tr>\n",
       "  </thead>\n",
       "  <tbody>\n",
       "    <tr>\n",
       "      <th>MM</th>\n",
       "      <td>-13.440099</td>\n",
       "    </tr>\n",
       "    <tr>\n",
       "      <th>QM</th>\n",
       "      <td>-15.253192</td>\n",
       "    </tr>\n",
       "  </tbody>\n",
       "</table>\n",
       "</div>"
      ],
      "text/plain": [
       "       Ebarrier\n",
       "type           \n",
       "MM   -13.440099\n",
       "QM   -15.253192"
      ]
     },
     "execution_count": 133,
     "metadata": {},
     "output_type": "execute_result"
    }
   ],
   "source": [
    "df_full.groupby('type').mean()"
   ]
  },
  {
   "cell_type": "code",
   "execution_count": 134,
   "metadata": {},
   "outputs": [
    {
     "data": {
      "text/html": [
       "<div>\n",
       "<style>\n",
       "    .dataframe thead tr:only-child th {\n",
       "        text-align: right;\n",
       "    }\n",
       "\n",
       "    .dataframe thead th {\n",
       "        text-align: left;\n",
       "    }\n",
       "\n",
       "    .dataframe tbody tr th {\n",
       "        vertical-align: top;\n",
       "    }\n",
       "</style>\n",
       "<table border=\"1\" class=\"dataframe\">\n",
       "  <thead>\n",
       "    <tr style=\"text-align: right;\">\n",
       "      <th></th>\n",
       "      <th>Ebarrier</th>\n",
       "    </tr>\n",
       "    <tr>\n",
       "      <th>type</th>\n",
       "      <th></th>\n",
       "    </tr>\n",
       "  </thead>\n",
       "  <tbody>\n",
       "    <tr>\n",
       "      <th>MM</th>\n",
       "      <td>32.306901</td>\n",
       "    </tr>\n",
       "    <tr>\n",
       "      <th>QM</th>\n",
       "      <td>32.272509</td>\n",
       "    </tr>\n",
       "  </tbody>\n",
       "</table>\n",
       "</div>"
      ],
      "text/plain": [
       "       Ebarrier\n",
       "type           \n",
       "MM    32.306901\n",
       "QM    32.272509"
      ]
     },
     "execution_count": 134,
     "metadata": {},
     "output_type": "execute_result"
    }
   ],
   "source": [
    "df_full.groupby('type').std()"
   ]
  },
  {
   "cell_type": "code",
   "execution_count": 135,
   "metadata": {},
   "outputs": [
    {
     "data": {
      "image/png": "[encoded data removed]",
      "text/plain": [
       "<matplotlib.figure.Figure at 0x115f87450>"
      ]
     },
     "metadata": {},
     "output_type": "display_data"
    }
   ],
   "source": [
    "sns.distplot(df_full.loc[df_full.type == 'MM']['Ebarrier'], color='b', label='MM', hist_kws={\"alpha\": 0.3})\n",
    "sns.distplot(df_full.loc[df_full.type == 'QM']['Ebarrier'], color='r', label='QM', hist_kws={\"alpha\": 0.3})\n",
    "plt.axvline(np.mean(df_full.loc[df_full.type == 'MM']['Ebarrier']), color='b', linestyle='--')\n",
    "plt.axvline(np.mean(df_full.loc[df_full.type == 'QM']['Ebarrier']), color='r', linestyle='--')\n",
    "plt.legend()\n",
    "plt.show()"
   ]
  },
  {
   "cell_type": "code",
   "execution_count": 136,
   "metadata": {},
   "outputs": [
    {
     "data": {
      "image/png": "[encoded data removed]",
      "text/plain": [
       "<matplotlib.figure.Figure at 0x114c01250>"
      ]
     },
     "metadata": {},
     "output_type": "display_data"
    }
   ],
   "source": [
    "sns.distplot(df_full.loc[df_full.type == 'MM']['Ebarrier'], color='b', bins=10, \n",
    "             hist_kws=dict(cumulative=True, alpha=0.3), kde_kws=dict(cumulative=True), label='MM')\n",
    "sns.distplot(df_full.loc[df_full.type == 'QM']['Ebarrier'], color='r', bins=10,\n",
    "            hist_kws=dict(cumulative=True, alpha=0.3), kde_kws=dict(cumulative=True), label='QM', )\n",
    "\n",
    "\n",
    "mean=np.mean(df_full.loc[df_full.type == 'QM']['Ebarrier'])\n",
    "std=np.std(df_full.loc[df_full.type == 'QM']['Ebarrier'])\n",
    "size=len(df_full.loc[df_full.type == 'QM'])\n",
    "#print(mean, std, size)\n",
    "t_qm = np.random.normal(mean, std, size)\n",
    "\n",
    "sns.kdeplot(t_qm, color='black', cumulative=True, label='Theoretical ND QM data', linestyle='--')\n",
    "\n",
    "plt.axvline(np.mean(df_full.loc[df_full.type == 'MM']['Ebarrier']), color='b', linestyle='--')\n",
    "plt.axvline(np.mean(df_full.loc[df_full.type == 'QM']['Ebarrier']), color='r', linestyle='--')\n",
    "plt.ylabel('CDF')\n",
    "plt.legend()\n",
    "plt.show()"
   ]
  },
  {
   "cell_type": "markdown",
   "metadata": {},
   "source": [
    "# All together Gas Phase and Full Phase: energy barriers"
   ]
  },
  {
   "cell_type": "code",
   "execution_count": 138,
   "metadata": {},
   "outputs": [
    {
     "data": {
      "image/png": "[encoded data removed]",
      "text/plain": [
       "<matplotlib.figure.Figure at 0x1143bbdd0>"
      ]
     },
     "metadata": {},
     "output_type": "display_data"
    }
   ],
   "source": [
    "df_all = df.append(df_full)\n",
    "\n",
    "sns.violinplot(x='type', y='Ebarrier', data=df_all, hue='phase', palette=\"muted\", split=True)\n",
    "plt.show()"
   ]
  },
  {
   "cell_type": "markdown",
   "metadata": {},
   "source": [
    "** Here we obtain a more broad distribution, which make sense giving the 'noise' introduced by water and ions ** Remember that even if waters and ions are mm their number may differ between different structures ... I should try new version of terachem to see if I can do single points with the entire frames without removing waters etc as done here."
   ]
  }
 ],
 "metadata": {
  "kernelspec": {
   "display_name": "Python 2",
   "language": "python",
   "name": "python2"
  },
  "language_info": {
   "codemirror_mode": {
    "name": "ipython",
    "version": 2
   },
   "file_extension": ".py",
   "mimetype": "text/x-python",
   "name": "python",
   "nbconvert_exporter": "python",
   "pygments_lexer": "ipython2",
   "version": "2.7.12"
  }
 },
 "nbformat": 4,
 "nbformat_minor": 2
}
